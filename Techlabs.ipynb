{
 "cells": [
  {
   "cell_type": "markdown",
   "id": "5aeaae08",
   "metadata": {
    "id": "5aeaae08"
   },
   "source": [
    "# Techlabs: Matchmaking Process"
   ]
  },
  {
   "cell_type": "markdown",
   "id": "cd2486db",
   "metadata": {
    "id": "cd2486db"
   },
   "source": [
    "Criteria for Match-making:\n",
    "- Age: people within a certain age range, such as 50-60 or 60-70, above 70.\n",
    "- Interests and Hobbies: similar interests and hobbies, such as gardening, cooking, musik or hiking.\n",
    "- Location: live in the same city or region.\n",
    "- Personality: compatible personality traits, such as extroverted or introverted.\n"
   ]
  },
  {
   "cell_type": "markdown",
   "id": "30701f8a-bc7e-4181-acd9-2a0c2ac28fdf",
   "metadata": {
    "id": "30701f8a-bc7e-4181-acd9-2a0c2ac28fdf"
   },
   "source": [
    "Necessary information & format of it as inputs for function\n",
    "1 User need to provide info on: name, age, interests, location, personality, number of desired matches\n",
    "-> remaining questions:\n",
    "1. What do we want to measure and include in the matchmaking?\n",
    "2. how to connect this algorithm with the app? how to execute it?\n",
    "3. \n",
    "\n",
    "Possible further functionalities:\n",
    "1. send_message(self, sender, recipient, message): This function would allow a user to send a message to another user. It could take three arguments: sender and recipient, which are User objects representing the sender and recipient of the message, respectively, and message, which is a string containing the message text.\n",
    "2. block_user(self, user, other_user): This function would allow a user to block another user, preventing them from appearing in the user's matches list or receiving messages from the user. It could take two arguments: user and other_user, which are User objects representing the user who is blocking and the user who is being blocked, respectively.\n",
    "3. report_abuse(self, user, other_user): This function would allow a user to report another user for abuse or inappropriate behavior. It could take two arguments: user and other_user, which are User objects representing the user who is reporting the abuse and the user who is being reported, respectively.\n",
    "4. set_location(self, user, location): This function would allow a user to update their location, which could be used to match them with other users who are nearby. It could take two arguments: user, which is a User object representing the user who is updating their location, and location, which is a string containing the user's new location."
   ]
  },
  {
   "cell_type": "code",
   "execution_count": 63,
   "id": "4f770dad",
   "metadata": {
    "id": "4f770dad"
   },
   "outputs": [],
   "source": [
    "class User:\n",
    "    # Class to create a new user\n",
    "    def __init__(self, name, age, interests, city, personality, num_matches):\n",
    "        self.name = name\n",
    "        self.age = age\n",
    "        self.interests = interests\n",
    "        self.city = city\n",
    "        self.personality = personality\n",
    "        self.num_matches = num_matches\n",
    "\n",
    "class MatchMaker:\n",
    "    # Class that creates matches\n",
    "    def __init__(self, users):\n",
    "        self.users = users\n",
    "\n",
    "    def match_making(self, user):\n",
    "        # Initialize empty list to store matches\n",
    "        matches = []\n",
    "       \n",
    "        # Initialize dictionary to store the number of times each user has been suggested as a match\n",
    "        match_counts = {u: 0 for u in self.users}\n",
    "\n",
    "        # Loop through all users in the database\n",
    "        for other_user in self.users:\n",
    "            # Skip the current user\n",
    "            if other_user == user:\n",
    "                continue\n",
    "            # Skip other_user if they have already been suggested the maximum number of times\n",
    "            if match_counts[other_user] >= user.num_matches:\n",
    "                continue\n",
    "\n",
    "            # Calculate match score:\n",
    "            # 1. Age\n",
    "            age_categories = [(55, 65), (65, 70), (70, float(\"inf\"))]\n",
    "            for (min_age, max_age) in age_categories:\n",
    "                if min_age <= user.age <= max_age and min_age <= other_user.age <= max_age:\n",
    "                    age_score = 1\n",
    "                    break\n",
    "                else:\n",
    "                    age_score = 0\n",
    "            # 2. Common Interest \n",
    "            common_interests = len(set(user.interests) & set(other_user.interests))\n",
    "            \n",
    "            # 3. Same City\n",
    "            if user.city == other_user.city:\n",
    "                same_city = 1\n",
    "            else:\n",
    "                same_city = 0\n",
    "            \n",
    "            \n",
    "            # Calculate score by addition\n",
    "            match_score = age_score + common_interests + same_city\n",
    "\n",
    "            # If match score is high enough, add other_user to the matches list\n",
    "            if match_score > 1:\n",
    "                matches.append((other_user, match_score))\n",
    "                match_counts[other_user] += 1 \n",
    "                \n",
    "        # Sort the matches list by score in descending order\n",
    "        matches.sort(key=lambda x: x[1], reverse=True)\n",
    "\n",
    "        # Return the top N matches\n",
    "        return [match[0] for match in matches[:user.num_matches]]\n",
    "    \n",
    "    def remove_match(self, user, other_user):\n",
    "        # Find the current matches for user\n",
    "        matches = self.match_making(user)\n",
    "\n",
    "        # If other_user is in the matches list, remove it\n",
    "        if other_user in matches:\n",
    "            matches.remove(other_user)\n",
    "\n",
    "        # Recalculate the matches for user to ensure that there are num_matches matches in the list\n",
    "        while len(matches) < user.num_matches:\n",
    "            # Find additional matches for user\n",
    "            new_matches = self.match_making(user)\n",
    "            # Add the new matches to the list\n",
    "            matches.extend(new_matches)\n",
    "        # Return the updated list of matches for user\n",
    "        return matches\n",
    "\n",
    "    \n",
    "    def delete_account(self, user):\n",
    "        # Remove user from the users list\n",
    "        self.users.remove(user)\n",
    "        \n",
    "        # Loop through all users in the users list\n",
    "        for other_user in self.users:\n",
    "            # Remove user from other_user's matches list\n",
    "            self.remove_match(other_user, user)\n",
    "    \n",
    "    def get_overview(self, user):\n",
    "        # Initialize empty dictionary to store overview data\n",
    "        overview = {'matches': [],'appeared_in_top_matches_of': 0,}\n",
    "\n",
    "        # Find the current matches for user\n",
    "        matches = self.match_making(user)\n",
    "        # Add the user names of the matches to the overview data\n",
    "        overview['matches'] = [match.name for match in matches]\n",
    "\n",
    "        # Loop through all users in the users list\n",
    "        for other_user in self.users:\n",
    "            # Skip the current user\n",
    "            if other_user == user:\n",
    "                continue\n",
    "\n",
    "            # Find the top matches for other_user\n",
    "            top_matches = self.match_making(other_user)\n",
    "            # Increment the appeared_in_top_matches_of counter if user is in the top matches for other_user\n",
    "            if user in top_matches:\n",
    "                overview['appeared_in_top_matches_of'] += 1\n",
    "\n",
    "        return overview"
   ]
  },
  {
   "cell_type": "code",
   "execution_count": 64,
   "id": "f781b632-baed-45f7-b7db-eb201c530d3f",
   "metadata": {},
   "outputs": [
    {
     "name": "stdout",
     "output_type": "stream",
     "text": [
      "['Eve', 'Charlie']\n",
      "['Eve', 'Charlie']\n",
      "['David']\n",
      "{'matches': ['David'], 'appeared_in_top_matches_of': 1}\n"
     ]
    }
   ],
   "source": [
    "# Create some users\n",
    "user1 = User(\"Alice\", 35, [\"hiking\", \"cooking\"], \"New York\", \"outgoing\", 3)\n",
    "user2 = User(\"Bob\", 60, [\"gardening\", \"movies\"], \"Chicago\", \"introverted\", 2)\n",
    "user3 = User(\"Charlie\", 45, [\"hiking\", \"movies\"], \"New York\", \"outgoing\", 2)\n",
    "user4 = User(\"David\", 55, [\"gardening\", \"movies\"], \"Chicago\", \"introverted\", 3)\n",
    "user5 = User(\"Eve\", 70, [\"hiking\", \"cooking\"], \"New York\", \"outgoing\", 1)\n",
    "\n",
    "users = [user1, user2, user3, user4, user5]\n",
    "\n",
    "# Create a match maker\n",
    "match_maker = MatchMaker(users)\n",
    "\n",
    "# Find the matches for user1\n",
    "matches = match_maker.match_making(user1)\n",
    "# Print the names of the matches\n",
    "print([match.name for match in matches])\n",
    "# Output: ['Charlie', 'Eve', 'Bob']\n",
    "\n",
    "# Remove user2 from user1's matches list\n",
    "match_maker.remove_match(user1, user2)\n",
    "\n",
    "# Find the updated matches for user1\n",
    "matches = match_maker.match_making(user1)\n",
    "# Print the names of the matches\n",
    "print([match.name for match in matches])\n",
    "# Output: ['Charlie', 'Eve', 'David']\n",
    "\n",
    "# Delete user1's account\n",
    "match_maker.delete_account(user1)\n",
    "\n",
    "# Find the matches for user2\n",
    "matches = match_maker.match_making(user2)\n",
    "# Print the names of the matches\n",
    "print([match.name for match in matches])\n",
    "# Output: ['David']\n",
    "\n",
    "# Get the overview data for user2\n",
    "overview = match_maker.get_overview(user2)\n",
    "# Print the overview data\n",
    "print(overview)\n",
    "# Output: {'matches': ['David'], 'appeared_in_top_matches_of': 0}"
   ]
  },
  {
   "cell_type": "code",
   "execution_count": null,
   "id": "d95c1115-4cba-41e4-85fd-9de2248a292c",
   "metadata": {},
   "outputs": [],
   "source": []
  }
 ],
 "metadata": {
  "colab": {
   "provenance": []
  },
  "kernelspec": {
   "display_name": "Python 3 (ipykernel)",
   "language": "python",
   "name": "python3"
  },
  "language_info": {
   "codemirror_mode": {
    "name": "ipython",
    "version": 3
   },
   "file_extension": ".py",
   "mimetype": "text/x-python",
   "name": "python",
   "nbconvert_exporter": "python",
   "pygments_lexer": "ipython3",
   "version": "3.9.12"
  },
  "vscode": {
   "interpreter": {
    "hash": "76eba47276d9473058224335f5bd2d989ce8b66398ef6144e852624af2f7078d"
   }
  }
 },
 "nbformat": 4,
 "nbformat_minor": 5
}
