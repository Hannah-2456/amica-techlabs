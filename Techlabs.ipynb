{
 "cells": [
  {
   "cell_type": "markdown",
   "id": "5aeaae08",
   "metadata": {
    "id": "5aeaae08"
   },
   "source": [
    "# Techlabs: Matchmaking Process"
   ]
  },
  {
   "cell_type": "markdown",
   "id": "cd2486db",
   "metadata": {
    "id": "cd2486db"
   },
   "source": [
    "Criteria for Match-making:\n",
    "- Age: people within a certain age range (categories:below 40; 40-50 or 50-65, above 65 - weight 1 point\n",
    "- Location: live in the same area in Copenhagen (Vesterbro, Valbey, Norrebro, Osterbro, Amager) - weight 0.5 points\n",
    "- Interests and Hobbies: coffee / tea, walks, cooking, reading, concerts, sport, theater - 1 point for each common interest\n",
    "- Number of matches: how many matches do they want to get (1, 2, 3)"
   ]
  },
  {
   "cell_type": "markdown",
   "id": "30701f8a-bc7e-4181-acd9-2a0c2ac28fdf",
   "metadata": {
    "id": "30701f8a-bc7e-4181-acd9-2a0c2ac28fdf"
   },
   "source": [
    "The code you provided defines two classes, User and MatchMaker.\n",
    "\n",
    "The User class has a constructor that takes in the following parameters:\n",
    "- name: a string representing the name of the user\n",
    "- age: an integer representing the age of the user\n",
    "- interests: a list of strings representing the interests of the user\n",
    "- location: a string representing the location of the user\n",
    "- num_matches: an integer representing the number of matches the user wants to receive\n",
    "\n",
    "The MatchMaker class has a constructor that takes in a list of User objects and creates matches between them based on their interests, location, and age. It also has several functions:\n",
    "- match_making_names(user): takes in a User object and returns a list of User objects that are a match for that user\n",
    "- match_making_scores(user): takes in a User object and returns a list of scores for the matches for that user\n",
    "- calculate_matches(): calculates the matches for all users in the users list\n",
    "- remove_match(user, other_user): takes in two User objects and removes the match between them\n",
    "- delete_account(user): takes in a User object and removes it from the users list and also removes any matches with that user.\n",
    "- add_account(user): takes in a User object and adds it to the users list and also recalculates all the matches.\n",
    "- all_matches() : Returns all the matches calculated by the match_maker.The MatchMaker class has a constructor that takes in a list of User objects and creates matches between them based on their interests, location, and age. It also has several functions:"
   ]
  },
  {
   "cell_type": "code",
   "execution_count": 176,
   "id": "39a4d4f7-2675-40f9-8ec2-344abaa92145",
   "metadata": {},
   "outputs": [],
   "source": [
    "class User:\n",
    "    # Class to create a new user\n",
    "    def __init__(self, name, age, interests, location, num_matches):\n",
    "        self.name = name\n",
    "        self.age = age\n",
    "        self.interests = interests\n",
    "        self.location = location\n",
    "        self.num_matches = num_matches\n",
    "    \n",
    "    def __repr__(self):\n",
    "        return f\"{self.name}\"\n",
    "        \n",
    "\n",
    "class MatchMaker:\n",
    "    # Class that creates matches\n",
    "    def __init__(self, users):\n",
    "        self.users = users\n",
    "        self.matches = {}  # Initialize empty dictionary to store matches\n",
    "        self.score = {} # Initialize empty dictionary to store scores of matches\n",
    "        self.calculate_matches()  # Calculate matches for all users\n",
    "        \n",
    "\n",
    "    def match_making_names(self, user):\n",
    "        if user in self.matches:\n",
    "            return self.matches[user] # Return the stored matches for the user\n",
    "        else:\n",
    "            return []\n",
    "        \n",
    "    def match_making_scores(self,user):\n",
    "        if user in self.matches:\n",
    "            return self.score[user] # Return the stored scores for the user\n",
    "        else:\n",
    "            return []\n",
    "    \n",
    "    def calculate_matches(self):\n",
    "\n",
    "        # Loop through all users in the database\n",
    "        for user in self.users:\n",
    "            # Initialize empty list to store matches for the current user\n",
    "            user_matches = []\n",
    "            for other_user in self.users:\n",
    "                # Skip the current user\n",
    "                if other_user == user:\n",
    "                    continue\n",
    "\n",
    "                # Calculate match score:\n",
    "                # 1. Age\n",
    "                age_diff = abs(user.age - other_user.age)\n",
    "                if age_diff <= 5:\n",
    "                    age_score = 1\n",
    "                elif age_diff <= 10:\n",
    "                    age_score = 0.5\n",
    "                else:\n",
    "                    age_score = 0\n",
    "        \n",
    "                # 2. Common Interest \n",
    "                common_interests = len(set(user.interests) & set(other_user.interests))\n",
    "\n",
    "                # 3. Same Location\n",
    "                if user.location == other_user.location:\n",
    "                    location_score = 0.5\n",
    "                else:\n",
    "                    location_score = 0\n",
    "\n",
    "                # Calculate score by addition\n",
    "                match_score = age_score + common_interests + location_score\n",
    "\n",
    "                # If match score is high enough, add other_user to the matches list\n",
    "                if match_score > 0.5:\n",
    "                    user_matches.append((other_user, match_score))\n",
    "\n",
    "            # Sort the matches list by score in descending order\n",
    "            user_matches.sort(key=lambda x: x[1], reverse=True)\n",
    "            self.matches[user] = [match[0] for match in user_matches[:user.num_matches]]\n",
    "            self.score[user] = [match[1] for match in user_matches[:user.num_matches]]\n",
    "        \n",
    "    def remove_match(self, user, other_user):\n",
    "            # Find the current matches for user\n",
    "            if user in self.matches:\n",
    "                matches = self.matches[user]\n",
    "                # If other_user is in the matches list, remove it\n",
    "                if other_user in matches:\n",
    "                    index = matches.index(other_user)\n",
    "                    matches.remove(other_user)\n",
    "                    self.matches[user] = matches\n",
    "\n",
    "                    score = self.score[user]\n",
    "                    score.pop(index)\n",
    "                    self.score[user] = score\n",
    "            # remove the match from the other_user\n",
    "            if other_user in self.matches:\n",
    "                other_matches = self.matches[other_user]\n",
    "                if user in other_matches:\n",
    "                    index = other_matches.index(user)\n",
    "                    other_matches.remove(user)\n",
    "                    self.matches[other_user] = other_matches\n",
    "\n",
    "                    other_score = self.score[other_user]\n",
    "                    other_score.pop(index)\n",
    "                    self.score[other_user] = other_score\n",
    "\n",
    "    def delete_account(self, user):\n",
    "        # Remove user from the users list\n",
    "        self.users.remove(user)\n",
    "        \n",
    "        # Remove user from the matches dictionary\n",
    "        if user in self.matches:\n",
    "            del self.matches[user]\n",
    "            del self.score[user]\n",
    "    \n",
    "        # Loop through all users in the users list\n",
    "        for other_user in self.users:\n",
    "            # Remove user from other_user's matches list\n",
    "            self.remove_match(other_user, user)\n",
    "            \n",
    "        # Recalculate matches for all users after removing the deleted user\n",
    "        self.calculate_matches()\n",
    "            \n",
    "    def add_user(self, new_user):\n",
    "        self.users.append(new_user)\n",
    "        self.calculate_matches()\n",
    "        \n",
    "    def all_matches(self):\n",
    "        return self.matches, self.score"
   ]
  },
  {
   "cell_type": "code",
   "execution_count": 177,
   "id": "bdf23647-d178-497d-aa99-07bf5062166e",
   "metadata": {},
   "outputs": [
    {
     "name": "stdout",
     "output_type": "stream",
     "text": [
      "({Alice: [Emily, Charlie], Bob: [David, Alice, Charlie], Charlie: [Emily], David: [Bob, Alice], Emily: [Alice, Charlie]}, {Alice: [4, 3], Bob: [4, 1.5, 1], Charlie: [4], David: [4, 1], Emily: [4, 4]})\n"
     ]
    }
   ],
   "source": [
    "# Create 5 users\n",
    "user_Alice = User(\"Alice\", 45, [\"coffee\", \"walks\", \"reading\", \"theater\"], \"Vesterbro\", 2)\n",
    "user_Bob = User(\"Bob\", 55, [\"tea\", \"cooking\", \"sport\", \"theater\"], \"Valby\", 3)\n",
    "user_Charlie = User(\"Charlie\", 60, [\"coffee\", \"walks\", \"reading\", \"concerts\"], \"Norrebro\", 1)\n",
    "user_David = User(\"David\", 75, [\"tea\", \"cooking\", \"sport\", \"theater\"], \"Osterbro\", 3)\n",
    "user_Emily = User(\"Emily\", 40, [\"coffee\", \"walks\", \"reading\", \"concerts\"], \"Amager\", 2)\n",
    "\n",
    "# Create a list of users\n",
    "users_list = [user_Alice, user_Bob, user_Charlie, user_David, user_Emily]\n",
    "\n",
    "# Create a MatchMaker object\n",
    "match_maker = MatchMaker(users_list)\n",
    "print(match_maker.all_matches())"
   ]
  },
  {
   "cell_type": "code",
   "execution_count": 178,
   "id": "741811f6-d65e-4e5e-bbf5-8596b15f4bdf",
   "metadata": {},
   "outputs": [
    {
     "name": "stdout",
     "output_type": "stream",
     "text": [
      "Matches for Alice:  [Emily, Charlie]\n",
      "Scores for Alice:  [4, 3]\n",
      "Matches for Bob:  [David, Alice, Charlie]\n",
      "Match scores for Bob:  [4, 1.5, 1]\n",
      "Matches for Charlie:  [Emily]\n",
      "Scores for Charlie:  [4]\n",
      "Matches for David:  [Bob, Alice]\n",
      "Match scores for David:  [4, 1]\n",
      "Matches for Emily:  [Alice, Charlie]\n",
      "Match scores for Emily:  [4, 4]\n"
     ]
    }
   ],
   "source": [
    "# Print matches for user1\n",
    "print(\"Matches for Alice: \", match_maker.match_making_names(user_Alice))\n",
    "print(\"Scores for Alice: \", match_maker.match_making_scores(user_Alice))\n",
    "\n",
    "# Print matches for user2\n",
    "print(\"Matches for Bob: \", match_maker.match_making_names(user_Bob))\n",
    "print(\"Match scores for Bob: \", match_maker.match_making_scores(user_Bob))\n",
    "\n",
    "# Print matches for user3\n",
    "print(\"Matches for Charlie: \", match_maker.match_making_names(user_Charlie))\n",
    "print(\"Scores for Charlie: \", match_maker.match_making_scores(user_Charlie))\n",
    "\n",
    "# Print matches for user4\n",
    "print(\"Matches for David: \", match_maker.match_making_names(user_David))\n",
    "print(\"Match scores for David: \", match_maker.match_making_scores(user_David))\n",
    "\n",
    "# Print matches for user5\n",
    "print(\"Matches for Emily: \", match_maker.match_making_names(user_Emily))\n",
    "print(\"Match scores for Emily: \", match_maker.match_making_scores(user_Emily))"
   ]
  },
  {
   "cell_type": "code",
   "execution_count": 179,
   "id": "ba2f8e33-4f8a-420e-b981-2c452e8d9011",
   "metadata": {},
   "outputs": [
    {
     "name": "stdout",
     "output_type": "stream",
     "text": [
      "Start:  ({Alice: [Emily, Charlie], Bob: [David, Alice, Charlie], Charlie: [Emily], David: [Bob, Alice], Emily: [Alice, Charlie]}, {Alice: [4, 3], Bob: [4, 1.5, 1], Charlie: [4], David: [4, 1], Emily: [4, 4]})\n",
      "After:  ({Alice: [Emily, Charlie], Bob: [David, Fiona, Alice], Charlie: [Emily], David: [Bob, Alice, Fiona], Emily: [Alice, Charlie], Fiona: [Charlie, Alice]}, {Alice: [4, 3], Bob: [4, 2, 1.5], Charlie: [4], David: [4, 1, 1], Emily: [4, 4], Fiona: [3, 2.5]})\n"
     ]
    }
   ],
   "source": [
    "# Add new user to the system\n",
    "print(\"Start: \", match_maker.all_matches())\n",
    "user_Fiona = User(\"Fiona\", 55, [\"coffee\", \"cooking\", \"reading\"], \"Amager\", 2)\n",
    "match_maker.add_user(user_Fiona)\n",
    "print(\"After: \", match_maker.all_matches())"
   ]
  },
  {
   "cell_type": "code",
   "execution_count": 180,
   "id": "f032b664-6f58-45ec-8566-2fa0c1c58257",
   "metadata": {},
   "outputs": [
    {
     "name": "stdout",
     "output_type": "stream",
     "text": [
      "({Alice: [Emily, Charlie], Bob: [David, Alice, Charlie], Charlie: [Emily], David: [Bob, Alice], Emily: [Alice, Charlie]}, {Alice: [4, 3], Bob: [4, 1.5, 1], Charlie: [4], David: [4, 1], Emily: [4, 4]})\n"
     ]
    }
   ],
   "source": [
    "match_maker.delete_account(user_Fiona)\n",
    "print(match_maker.all_matches())"
   ]
  },
  {
   "cell_type": "code",
   "execution_count": 181,
   "id": "ca8c9f8f-ad1d-495d-9bcc-aa6374733a13",
   "metadata": {},
   "outputs": [
    {
     "name": "stdout",
     "output_type": "stream",
     "text": [
      "Matches for David:  [Alice]\n",
      "Match scores for David:  [1]\n",
      "Matches for Bob:  [Alice, Charlie]\n",
      "Match scores for Bob:  [1.5, 1]\n"
     ]
    }
   ],
   "source": [
    "# Remove match between user2 and user3\n",
    "match_maker.remove_match(user_David, user_Bob)\n",
    "\n",
    "# Print matches for user4\n",
    "print(\"Matches for David: \", match_maker.match_making_names(user_David))\n",
    "print(\"Match scores for David: \", match_maker.match_making_scores(user_David))\n",
    "\n",
    "# Print matches for user2\n",
    "print(\"Matches for Bob: \", match_maker.match_making_names(user_Bob))\n",
    "print(\"Match scores for Bob: \", match_maker.match_making_scores(user_Bob))"
   ]
  },
  {
   "cell_type": "code",
   "execution_count": null,
   "id": "7b896153-932f-48cf-ae09-b04431cf47e7",
   "metadata": {},
   "outputs": [],
   "source": []
  }
 ],
 "metadata": {
  "colab": {
   "provenance": []
  },
  "kernelspec": {
   "display_name": "Python 3 (ipykernel)",
   "language": "python",
   "name": "python3"
  },
  "language_info": {
   "codemirror_mode": {
    "name": "ipython",
    "version": 3
   },
   "file_extension": ".py",
   "mimetype": "text/x-python",
   "name": "python",
   "nbconvert_exporter": "python",
   "pygments_lexer": "ipython3",
   "version": "3.9.12"
  },
  "vscode": {
   "interpreter": {
    "hash": "76eba47276d9473058224335f5bd2d989ce8b66398ef6144e852624af2f7078d"
   }
  }
 },
 "nbformat": 4,
 "nbformat_minor": 5
}
